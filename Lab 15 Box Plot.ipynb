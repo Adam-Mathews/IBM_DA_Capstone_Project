{
 "cells": [
  {
   "cell_type": "markdown",
   "metadata": {},
   "source": [
    "<p style=\"text-align:center\">\n",
    "    <a href=\"https://skills.network\" target=\"_blank\">\n",
    "    <img src=\"https://cf-courses-data.s3.us.cloud-object-storage.appdomain.cloud/assets/logos/SN_web_lightmode.png\" width=\"200\" alt=\"Skills Network Logo\"  />\n",
    "    </a>\n",
    "</p>\n"
   ]
  },
  {
   "cell_type": "markdown",
   "metadata": {},
   "source": [
    "# **Box Plots**\n"
   ]
  },
  {
   "cell_type": "markdown",
   "metadata": {},
   "source": [
    "Estimated time needed: **45** minutes\n"
   ]
  },
  {
   "cell_type": "markdown",
   "metadata": {},
   "source": [
    "In this lab, you will focus on the visualization of data. The dataset will be provided through an RDBMS, and you will need to use SQL queries to extract the required data.\n"
   ]
  },
  {
   "cell_type": "markdown",
   "metadata": {},
   "source": [
    "## Objectives\n"
   ]
  },
  {
   "cell_type": "markdown",
   "metadata": {},
   "source": [
    "In this lab you will perform the following:\n"
   ]
  },
  {
   "cell_type": "markdown",
   "metadata": {},
   "source": [
    "-   Visualize the distribution of data.\n",
    "\n",
    "-   Visualize the relationship between two features.\n",
    "\n",
    "-   Visualize data composition and comparisons using box plots.\n"
   ]
  },
  {
   "cell_type": "markdown",
   "metadata": {},
   "source": [
    "### Setup: Connecting to the Database\n"
   ]
  },
  {
   "cell_type": "markdown",
   "metadata": {},
   "source": [
    "#### 1. Download the Database File\n"
   ]
  },
  {
   "cell_type": "code",
   "execution_count": null,
   "metadata": {},
   "outputs": [
    {
     "name": "stdout",
     "output_type": "stream",
     "text": [
      "--2025-06-13 15:55:32--  https://cf-courses-data.s3.us.cloud-object-storage.appdomain.cloud/QR9YeprUYhOoLafzlLspAw/survey-results-public.sqlite\n",
      "Resolving cf-courses-data.s3.us.cloud-object-storage.appdomain.cloud (cf-courses-data.s3.us.cloud-object-storage.appdomain.cloud)... 169.63.118.104\n",
      "Connecting to cf-courses-data.s3.us.cloud-object-storage.appdomain.cloud (cf-courses-data.s3.us.cloud-object-storage.appdomain.cloud)|169.63.118.104|:443... connected.\n",
      "200 OKequest sent, awaiting response... \n",
      "Length: 211415040 (202M) [application/octet-stream]\n",
      "Saving to: ‘survey-results-public.sqlite.1’\n",
      "\n",
      "          survey-re   0%[                    ]       0  --.-KB/s               "
     ]
    }
   ],
   "source": [
    "!wget https://cf-courses-data.s3.us.cloud-object-storage.appdomain.cloud/QR9YeprUYhOoLafzlLspAw/survey-results-public.sqlite"
   ]
  },
  {
   "cell_type": "markdown",
   "metadata": {},
   "source": [
    "#### 2. Connect to the Database\n"
   ]
  },
  {
   "cell_type": "markdown",
   "metadata": {},
   "source": [
    "**Install the needed libraries**\n"
   ]
  },
  {
   "cell_type": "code",
   "execution_count": null,
   "metadata": {},
   "outputs": [],
   "source": [
    "!pip install pandas"
   ]
  },
  {
   "cell_type": "code",
   "execution_count": null,
   "metadata": {},
   "outputs": [],
   "source": [
    "!pip install matplotlib"
   ]
  },
  {
   "cell_type": "code",
   "execution_count": null,
   "metadata": {},
   "outputs": [],
   "source": [
    "import sqlite3\n",
    "import pandas as pd\n",
    "import matplotlib.pyplot as plt\n",
    "\n",
    "# Connect to the SQLite database\n",
    "conn = sqlite3.connect('survey-results-public.sqlite')\n"
   ]
  },
  {
   "cell_type": "markdown",
   "metadata": {},
   "source": [
    "## Demo: Basic SQL Queries\n"
   ]
  },
  {
   "cell_type": "markdown",
   "metadata": {},
   "source": [
    "#### Demo 1: Count the Number of Rows in the Table\n"
   ]
  },
  {
   "cell_type": "code",
   "execution_count": null,
   "metadata": {},
   "outputs": [],
   "source": [
    "QUERY = \"SELECT COUNT(*) FROM main\"\n",
    "df = pd.read_sql_query(QUERY, conn)\n",
    "print(df)\n"
   ]
  },
  {
   "cell_type": "markdown",
   "metadata": {},
   "source": [
    "#### Demo 2: List All Tables\n"
   ]
  },
  {
   "cell_type": "code",
   "execution_count": null,
   "metadata": {},
   "outputs": [],
   "source": [
    "QUERY = \"\"\"\n",
    "SELECT name as Table_Name \n",
    "FROM sqlite_master \n",
    "WHERE type = 'table'\n",
    "\"\"\"\n",
    "pd.read_sql_query(QUERY, conn)\n"
   ]
  },
  {
   "cell_type": "markdown",
   "metadata": {},
   "source": [
    "#### Demo 3: Group Data by Age\n"
   ]
  },
  {
   "cell_type": "code",
   "execution_count": null,
   "metadata": {},
   "outputs": [],
   "source": [
    "QUERY = \"\"\"\n",
    "SELECT Age, COUNT(*) as count \n",
    "FROM main \n",
    "GROUP BY Age \n",
    "ORDER BY Age\n",
    "\"\"\"\n",
    "df_age = pd.read_sql_query(QUERY, conn)\n",
    "print(df_age)\n"
   ]
  },
  {
   "cell_type": "markdown",
   "metadata": {},
   "source": [
    "## Visualizing Data\n"
   ]
  },
  {
   "cell_type": "markdown",
   "metadata": {},
   "source": [
    "### Task 1: Visualizing the Distribution of Data\n"
   ]
  },
  {
   "cell_type": "markdown",
   "metadata": {},
   "source": [
    "**1. Box Plot of `CompTotal` (Total Compensation)**\n"
   ]
  },
  {
   "cell_type": "markdown",
   "metadata": {},
   "source": [
    "Use a box plot to analyze the distribution and outliers in total compensation.\n"
   ]
  },
  {
   "cell_type": "code",
   "execution_count": null,
   "metadata": {},
   "outputs": [],
   "source": [
    "# your code goes here\n",
    "QUERY = \"\"\"\n",
    "SELECT\n",
    "    CASE\n",
    "        WHEN YearsCodePro = 'Less than 1 year' THEN 0.5\n",
    "        WHEN YearsCodePro = 'More than 50 years' THEN 51\n",
    "        ELSE CAST(YearsCodePro AS REAL)\n",
    "    END AS YearsCodePro,\n",
    "    CompTotal\n",
    "FROM main\n",
    "WHERE YearsCodePro IS NOT NULL \n",
    "AND CompTotal IS NOT NULL \n",
    "AND CompTotal >= 0\n",
    "AND CompTotal <= 500000\n",
    "\"\"\"\n",
    "\n",
    "df = pd.read_sql_query(QUERY, conn)\n",
    "\n",
    "bins = [0, 1, 5, 10, 20, 100]\n",
    "labels = ['<1 year', '1-5 years', '5-10 years', '10-20 years', '20+ years']\n",
    "df['ExperienceGroup'] = pd.cut(df['YearsCodePro'], bins=bins, labels=labels, right=False)\n",
    "\n",
    "plt.figure(figsize=(10, 6))\n",
    "df.boxplot(column='CompTotal', by='ExperienceGroup', grid=True, patch_artist=True,\n",
    "           boxprops=dict(facecolor='lightgreen', color='darkgreen'),\n",
    "           medianprops=dict(color='red'))\n",
    "\n",
    "plt.title('Total Compensation Distribution by Years of Professional Coding Experience')\n",
    "plt.suptitle('')  # to remove the automatic 'Boxplot grouped by...' title\n",
    "plt.xlabel('Years of Professional Coding Experience')\n",
    "plt.ylabel('Total Compensation')\n",
    "plt.xticks(rotation=45)\n",
    "plt.show()\n"
   ]
  },
  {
   "cell_type": "markdown",
   "metadata": {},
   "source": [
    "**2. Box Plot of Age (converted to numeric values)**\n"
   ]
  },
  {
   "cell_type": "markdown",
   "metadata": {},
   "source": [
    "Convert the `Age` column into numerical values and visualize the distribution.\n"
   ]
  },
  {
   "cell_type": "code",
   "execution_count": null,
   "metadata": {},
   "outputs": [],
   "source": [
    "# your code goes here\n",
    "# SQL query\n",
    "QUERY = \"\"\"\n",
    "SELECT \n",
    "  CASE\n",
    "    WHEN Age = 'Under 18 years old' THEN 17\n",
    "    WHEN Age = '18-24 years old' THEN 21\n",
    "    WHEN Age = '25-34 years old' THEN 29\n",
    "    WHEN Age = '35-44 years old' THEN 39\n",
    "    WHEN Age = '45-54 years old' THEN 49\n",
    "    WHEN Age = '55-64 years old' THEN 59\n",
    "    WHEN Age = '65 or older' THEN 65\n",
    "    ELSE NULL\n",
    "  END AS AgeNum\n",
    "FROM main\n",
    "WHERE Age IS NOT NULL\n",
    "\"\"\"\n",
    "\n",
    "# Load data\n",
    "df = pd.read_sql_query(QUERY, conn)\n",
    "\n",
    "# Plot histogram of AgeNum\n",
    "plt.figure(figsize=(8, 6))\n",
    "plt.hist(df['AgeNum'], bins=range(15, 71, 10), color='skyblue', edgecolor='black', align='left')\n",
    "plt.title('Distribution of Respondents by Age')\n",
    "plt.xlabel('Age (Approximate Midpoints)')\n",
    "plt.ylabel('Number of Respondents')\n",
    "plt.xticks([17, 21, 29, 39, 49, 59, 65], rotation=45)\n",
    "plt.grid(axis='y')\n",
    "plt.tight_layout()\n",
    "plt.show()"
   ]
  },
  {
   "cell_type": "markdown",
   "metadata": {},
   "source": [
    "### Task 2: Visualizing Relationships in Data\n"
   ]
  },
  {
   "cell_type": "markdown",
   "metadata": {},
   "source": [
    "**1. Box Plot of `CompTotal` Grouped by Age Groups:**\n"
   ]
  },
  {
   "cell_type": "markdown",
   "metadata": {},
   "source": [
    "Visualize the distribution of compensation across different age groups.\n"
   ]
  },
  {
   "cell_type": "code",
   "execution_count": null,
   "metadata": {},
   "outputs": [],
   "source": [
    "# your code goes here\n",
    "QUERY = \"\"\"SELECT \n",
    "  CASE\n",
    "    WHEN Age = 'Under 18 years old' THEN 17\n",
    "    WHEN Age = '18-24 years old' THEN 21\n",
    "    WHEN Age = '25-34 years old' THEN 29\n",
    "    WHEN Age = '35-44 years old' THEN 39\n",
    "    WHEN Age = '45-54 years old' THEN 49\n",
    "    WHEN Age = '55-64 years old' THEN 59\n",
    "    WHEN Age = '65 or older' THEN 65\n",
    "    ELSE NULL\n",
    "  END AS AgeNum,\n",
    "  CompTotal\n",
    "FROM main\n",
    "WHERE Age IS NOT NULL AND CompTotal IS NOT NULL AND CompTotal >= 0 AND CompTotal <= 500000\"\"\"\n",
    "\n",
    "# Run SQL query\n",
    "df = pd.read_sql_query(QUERY, conn)\n",
    "\n",
    "# Plot box plot of compensation by AgeNum\n",
    "plt.figure(figsize=(10, 6))\n",
    "df.boxplot(column='CompTotal', by='AgeNum', grid=True, patch_artist=True,\n",
    "           boxprops=dict(facecolor='lightblue', color='navy'),\n",
    "           medianprops=dict(color='red'))\n",
    "\n",
    "plt.title('Total Compensation by Age Group')\n",
    "plt.suptitle('')  # Remove default title\n",
    "plt.xlabel('Age (Midpoint of Age Range)')\n",
    "plt.ylabel('Total Compensation')\n",
    "plt.xticks(rotation=0)\n",
    "plt.tight_layout()\n",
    "plt.show()\n"
   ]
  },
  {
   "cell_type": "markdown",
   "metadata": {},
   "source": [
    "**2. Box Plot of `CompTotal` Grouped by Job Satisfaction (`JobSatPoints_6`):**\n"
   ]
  },
  {
   "cell_type": "markdown",
   "metadata": {},
   "source": [
    "Examine how compensation varies based on job satisfaction levels.\n"
   ]
  },
  {
   "cell_type": "code",
   "execution_count": null,
   "metadata": {},
   "outputs": [],
   "source": [
    "# your code goes here\n",
    "# Run query\n",
    "QUERY = \"\"\"\n",
    "SELECT\n",
    "  JobSat,\n",
    "  CAST(CompTotal AS REAL) AS CompTotal\n",
    "FROM main\n",
    "WHERE JobSat IS NOT NULL\n",
    "  AND CompTotal IS NOT NULL\n",
    "  AND CAST(CompTotal AS REAL) >= 0\n",
    "  AND CAST(CompTotal AS REAL) <= 500000\n",
    "\"\"\"\n",
    "\n",
    "df = pd.read_sql_query(QUERY, conn)\n",
    "\n",
    "# Sort JobSat categories for consistent order (optional)\n",
    "df['JobSat'] = pd.Categorical(df['JobSat'], ordered=True)\n",
    "\n",
    "plt.figure(figsize=(10, 6))\n",
    "df.boxplot(column='CompTotal', by='JobSat', grid=True, patch_artist=True,\n",
    "           boxprops=dict(facecolor='lightblue'),\n",
    "           medianprops=dict(color='red'))\n",
    "\n",
    "plt.title('Compensation by Job Satisfaction Level')\n",
    "plt.suptitle('')\n",
    "plt.xlabel('Job Satisfaction')\n",
    "plt.ylabel('Total Compensation')\n",
    "plt.xticks(rotation=30, ha='right')\n",
    "plt.tight_layout()\n",
    "plt.show()\n"
   ]
  },
  {
   "cell_type": "markdown",
   "metadata": {},
   "source": [
    "### Task 3: Visualizing the Composition of Data\n"
   ]
  },
  {
   "cell_type": "markdown",
   "metadata": {},
   "source": [
    "**1. Box Plot of `ConvertedCompYearly` for the Top 5 Developer Types:**\n"
   ]
  },
  {
   "cell_type": "markdown",
   "metadata": {},
   "source": [
    "Analyze compensation across the top 5 developer roles.\n"
   ]
  },
  {
   "cell_type": "code",
   "execution_count": null,
   "metadata": {},
   "outputs": [],
   "source": [
    "# your code goes here\n",
    "QUERY = \"\"\"SELECT\n",
    "  DevType,\n",
    "  CAST(CompTotal AS REAL) AS CompTotal\n",
    "FROM main\n",
    "WHERE DevType IS NOT NULL\n",
    "  AND CompTotal IS NOT NULL\n",
    "  AND CAST(CompTotal AS REAL) >= 0\n",
    "  AND CAST(CompTotal AS REAL) <= 500000\n",
    "\"\"\"\n",
    "\n",
    "# Read from SQLite\n",
    "df = pd.read_sql_query(QUERY, conn)\n",
    "\n",
    "# Split DevType values (semicolon-separated list of roles)\n",
    "df = df.assign(DevType=df['DevType'].str.split(';'))\n",
    "\n",
    "# Explode into one row per role\n",
    "df = df.explode('DevType')\n",
    "df['DevType'] = df['DevType'].str.strip()\n",
    "\n",
    "# Get top 5 most common roles\n",
    "top_roles = df['DevType'].value_counts().head(5).index.tolist()\n",
    "\n",
    "# Filter to those top 5 roles\n",
    "df_top = df[df['DevType'].isin(top_roles)]\n",
    "\n",
    "# Plot box plot of compensation by role\n",
    "plt.figure(figsize=(10, 6))\n",
    "df_top.boxplot(column='CompTotal', by='DevType', patch_artist=True,\n",
    "               boxprops=dict(facecolor='lightgreen'),\n",
    "               medianprops=dict(color='red'))\n",
    "\n",
    "plt.title('Compensation by Top 5 Developer Roles')\n",
    "plt.suptitle('')\n",
    "plt.xlabel('Developer Role')\n",
    "plt.ylabel('Total Compensation')\n",
    "plt.xticks(rotation=30, ha='right')\n",
    "plt.tight_layout()\n",
    "plt.grid(axis='y')\n",
    "plt.show()"
   ]
  },
  {
   "cell_type": "markdown",
   "metadata": {},
   "source": [
    "**2. Box Plot of `CompTotal` for the Top 5 Countries:**\n"
   ]
  },
  {
   "cell_type": "markdown",
   "metadata": {},
   "source": [
    "Analyze compensation across respondents from the top 5 countries.\n"
   ]
  },
  {
   "cell_type": "code",
   "execution_count": null,
   "metadata": {},
   "outputs": [],
   "source": [
    "# your code goes here\n",
    "QUERY = \"\"\"SELECT\n",
    "  Country,\n",
    "  CAST(CompTotal AS REAL) AS CompTotal\n",
    "FROM main\n",
    "WHERE Country IS NOT NULL\n",
    "  AND CompTotal IS NOT NULL\n",
    "  AND CAST(CompTotal AS REAL) >= 0\n",
    "  AND CAST(CompTotal AS REAL) <= 500000\n",
    "\"\"\"\n",
    "# Load data\n",
    "df = pd.read_sql_query(QUERY, conn)\n",
    "\n",
    "# Identify top 5 countries by count\n",
    "top_countries = df['Country'].value_counts().head(5).index.tolist()\n",
    "\n",
    "# Filter to those countries\n",
    "df_top = df[df['Country'].isin(top_countries)]\n",
    "\n",
    "# Create box plot\n",
    "plt.figure(figsize=(10, 6))\n",
    "df_top.boxplot(column='CompTotal', by='Country', patch_artist=True,\n",
    "               boxprops=dict(facecolor='lightblue'),\n",
    "               medianprops=dict(color='darkred'))\n",
    "\n",
    "plt.title('Compensation by Country (Top 5 Respondent Countries)')\n",
    "plt.suptitle('')\n",
    "plt.xlabel('Country')\n",
    "plt.ylabel('Total Compensation')\n",
    "plt.xticks(rotation=30, ha='right')\n",
    "plt.grid(axis='y')\n",
    "plt.tight_layout()\n",
    "plt.show()"
   ]
  },
  {
   "cell_type": "markdown",
   "metadata": {},
   "source": [
    "### Task 4: Visualizing Comparison of Data\n"
   ]
  },
  {
   "cell_type": "markdown",
   "metadata": {},
   "source": [
    "**1. Box Plot of CompTotal Across Employment Types:**\n"
   ]
  },
  {
   "cell_type": "markdown",
   "metadata": {},
   "source": [
    "Analyze compensation for different employment types.\n"
   ]
  },
  {
   "cell_type": "code",
   "execution_count": null,
   "metadata": {},
   "outputs": [],
   "source": [
    "# your code goes here\n",
    "QUERY = \"\"\"\n",
    "SELECT\n",
    "  Employment,\n",
    "  CAST(CompTotal AS REAL) AS CompTotal\n",
    "FROM main\n",
    "WHERE Employment IS NOT NULL\n",
    "  AND CompTotal IS NOT NULL\n",
    "  AND CAST(CompTotal AS REAL) >= 0\n",
    "  AND CAST(CompTotal AS REAL) <= 500000\n",
    "\"\"\"\n",
    "# Load data\n",
    "df = pd.read_sql_query(QUERY, conn)\n",
    "\n",
    "# Split multiple employment types (delimited by ';')\n",
    "df['Employment'] = df['Employment'].str.split(';')\n",
    "\n",
    "# Explode so each employment type is its own row\n",
    "df = df.explode('Employment')\n",
    "\n",
    "# Strip leading/trailing whitespace\n",
    "df['Employment'] = df['Employment'].str.strip()\n",
    "\n",
    "# Order employment types by frequency\n",
    "employment_order = df['Employment'].value_counts().index.tolist()\n",
    "df['Employment'] = pd.Categorical(df['Employment'], categories=employment_order, ordered=True)\n",
    "\n",
    "# Plot\n",
    "plt.figure(figsize=(12, 6))\n",
    "df.boxplot(column='CompTotal', by='Employment', patch_artist=True,\n",
    "           boxprops=dict(facecolor='lightgray'),\n",
    "           medianprops=dict(color='red'))\n",
    "\n",
    "plt.title('Compensation by Employment Type')\n",
    "plt.suptitle('')\n",
    "plt.xlabel('Employment Type')\n",
    "plt.ylabel('Total Compensation (USD)')\n",
    "plt.xticks(rotation=30, ha='right')\n",
    "plt.grid(axis='y')\n",
    "plt.tight_layout()\n",
    "plt.show()\n"
   ]
  },
  {
   "cell_type": "markdown",
   "metadata": {},
   "source": [
    "**2. Box Plot of `YearsCodePro` by Job Satisfaction (`JobSatPoints_6`):**\n"
   ]
  },
  {
   "cell_type": "markdown",
   "metadata": {},
   "source": [
    "Examine the distribution of professional coding years by job satisfaction levels.\n"
   ]
  },
  {
   "cell_type": "code",
   "execution_count": null,
   "metadata": {},
   "outputs": [],
   "source": [
    "# your code goes here\n",
    "QUERY = \"\"\"SELECT\n",
    "  CASE\n",
    "    WHEN YearsCodePro = 'Less than 1 year' THEN 0.5\n",
    "    WHEN YearsCodePro = 'More than 50 years' THEN 51\n",
    "    ELSE CAST(YearsCodePro AS REAL)\n",
    "  END AS YearsCodePro,\n",
    "  JobSat\n",
    "FROM main\n",
    "WHERE YearsCodePro IS NOT NULL\n",
    "  AND JobSat IS NOT NULL\n",
    "\"\"\"\n",
    "\n",
    "# Load cleaned data\n",
    "df = pd.read_sql_query(QUERY, conn)\n",
    "\n",
    "# Just to be sure, reset your JobSat categories with correct labels\n",
    "job_sat_order = [\n",
    "    'Very dissatisfied',\n",
    "    'Slightly dissatisfied',\n",
    "    'Neither satisfied nor dissatisfied',\n",
    "    'Slightly satisfied',\n",
    "    'Very satisfied'\n",
    "]\n",
    "\n",
    "# Your current JobSat is numeric (5, 8, 10, 6, 9 etc.), so let's check unique JobSat values:\n",
    "print(df['JobSat'].unique())\n",
    "\n",
    "# If JobSat is numeric codes, either map them to labels or treat as categorical directly\n",
    "# For example, if JobSat is on a 1-10 scale, plot it directly (or bin it)\n",
    "\n",
    "# Let's try a simple boxplot grouping by JobSat as numeric categories:\n",
    "plt.figure(figsize=(10, 6))\n",
    "df.boxplot(column='YearsCodePro', by='JobSat', patch_artist=True,\n",
    "           boxprops=dict(facecolor='lightsteelblue'),\n",
    "           medianprops=dict(color='red'))\n",
    "\n",
    "plt.title('Professional Coding Experience by Job Satisfaction')\n",
    "plt.suptitle('')\n",
    "plt.xlabel('Job Satisfaction (numeric)')\n",
    "plt.ylabel('Years of Professional Coding Experience')\n",
    "plt.xticks(rotation=30, ha='right')\n",
    "plt.grid(axis='y')\n",
    "plt.tight_layout()\n",
    "plt.show()\n"
   ]
  },
  {
   "cell_type": "markdown",
   "metadata": {},
   "source": [
    "### Final Step: Close the Database Connection\n"
   ]
  },
  {
   "cell_type": "markdown",
   "metadata": {},
   "source": [
    "After completing the lab, close the connection to the SQLite database:\n"
   ]
  },
  {
   "cell_type": "code",
   "execution_count": null,
   "metadata": {},
   "outputs": [],
   "source": [
    "conn.close()"
   ]
  },
  {
   "cell_type": "markdown",
   "metadata": {},
   "source": [
    "## Summary\n"
   ]
  },
  {
   "cell_type": "markdown",
   "metadata": {},
   "source": [
    "In this lab, you used box plots to visualize various aspects of the dataset, focusing on:\n",
    "\n",
    "- Visualize distributions of compensation and age.\n",
    "\n",
    "- Explore relationships between compensation, job satisfaction, and professional coding experience.\n",
    "\n",
    "- Analyze data composition across developer roles and countries.\n",
    "\n",
    "- Compare compensation across employment types and satisfaction levels.\n",
    "\n",
    "Box plots provided clear insights into the spread, outliers, and central tendencies of various features in the dataset.\n"
   ]
  },
  {
   "cell_type": "markdown",
   "metadata": {},
   "source": [
    "## Authors:\n",
    "Ayushi Jain\n"
   ]
  },
  {
   "cell_type": "markdown",
   "metadata": {},
   "source": [
    "### Other Contributors:\n",
    "- Rav Ahuja\n",
    "- Lakshmi Holla\n",
    "- Malika\n"
   ]
  },
  {
   "cell_type": "markdown",
   "metadata": {},
   "source": [
    "<!--## Change Log\n",
    "|Date (YYYY-MM-DD)|Version|Changed By|Change Description|\n",
    "|-|-|-|-|               \n",
    "|2024-10-07|1.2|Madhusudan Moole|Reviewed and updated lab|                                                                                      \n",
    "|2024-10-06|1.0|Raghul Ramesh|Created lab|-->\n"
   ]
  },
  {
   "cell_type": "markdown",
   "metadata": {},
   "source": [
    "Copyright © IBM Corporation. All rights reserved.\n"
   ]
  }
 ],
 "metadata": {
  "kernelspec": {
   "display_name": "Python 3 (ipykernel)",
   "language": "python",
   "name": "python3"
  },
  "language_info": {
   "codemirror_mode": {
    "name": "ipython",
    "version": 3
   },
   "file_extension": ".py",
   "mimetype": "text/x-python",
   "name": "python",
   "nbconvert_exporter": "python",
   "pygments_lexer": "ipython3",
   "version": "3.12.8"
  },
  "prev_pub_hash": "ef55dde315696b09b8216b324b3988d2b2b16efccbe3b64dab69d537a82aa9d6"
 },
 "nbformat": 4,
 "nbformat_minor": 4
}
